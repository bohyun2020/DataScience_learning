{
 "cells": [
  {
   "cell_type": "markdown",
   "metadata": {},
   "source": [
    "<h1>Introduction</h1>\n",
    "\n",
    "First, we'll read in the data and remove the headers."
   ]
  },
  {
   "cell_type": "code",
   "execution_count": 7,
   "metadata": {},
   "outputs": [
    {
     "name": "stdout",
     "output_type": "stream",
     "text": [
      "['id', 'title', 'url', 'num_points', 'num_comments', 'author', 'created_at']\n",
      "[['12224879', 'Interactive Dynamic Video', 'http://www.interactivedynamicvideo.com/', '386', '52', 'ne0phyte', '8/4/2016 11:52'], ['10975351', 'How to Use Open Source and Shut the Fuck Up at the Same Time', 'http://hueniverse.com/2016/01/26/how-to-use-open-source-and-shut-the-fuck-up-at-the-same-time/', '39', '10', 'josep2', '1/26/2016 19:30'], ['11964716', \"Florida DJs May Face Felony for April Fools' Water Joke\", 'http://www.thewire.com/entertainment/2013/04/florida-djs-april-fools-water-joke/63798/', '2', '1', 'vezycash', '6/23/2016 22:20'], ['11919867', 'Technology ventures: From Idea to Enterprise', 'https://www.amazon.com/Technology-Ventures-Enterprise-Thomas-Byers/dp/0073523429', '3', '1', 'hswarna', '6/17/2016 0:01'], ['10301696', 'Note by Note: The Making of Steinway L1037 (2007)', 'http://www.nytimes.com/2007/11/07/movies/07stein.html?_r=0', '8', '2', 'walterbell', '9/30/2015 4:12']]\n"
     ]
    }
   ],
   "source": [
    "import csv\n",
    "\n",
    "f = open('hacker_news.csv', encoding=\"utf-8\")\n",
    "hn = list(csv.reader(f))\n",
    "headers = hn[0]\n",
    "hn = hn[1:]\n",
    "print(headers)\n",
    "print(hn[:5])"
   ]
  },
  {
   "cell_type": "code",
   "execution_count": 8,
   "metadata": {},
   "outputs": [
    {
     "name": "stdout",
     "output_type": "stream",
     "text": [
      "1744\n",
      "1162\n",
      "17194\n"
     ]
    }
   ],
   "source": [
    "ask_posts = []\n",
    "show_posts = []\n",
    "other_posts = []\n",
    "\n",
    "for post in hn:\n",
    "    title = post[1]\n",
    "    if title.lower().startswith('ask hn'):\n",
    "        ask_posts.append(post)\n",
    "    elif title.lower().startswith('show hn'):\n",
    "        show_posts.append(post)\n",
    "    else:\n",
    "        other_posts.append(post)\n",
    "        \n",
    "print(len(ask_posts))\n",
    "print(len(show_posts))\n",
    "print(len(other_posts))"
   ]
  },
  {
   "cell_type": "markdown",
   "metadata": {},
   "source": [
    "<h2>Calculating the Average Number of Comments for Ask HN and Show HN Posts</h2>\n",
    "\n",
    "Now that we separated ask posts and show posts into different lists, we'll calculate the average number of comments each type of post receives."
   ]
  },
  {
   "cell_type": "code",
   "execution_count": 12,
   "metadata": {
    "scrolled": true
   },
   "outputs": [
    {
     "name": "stdout",
     "output_type": "stream",
     "text": [
      "14.038417431192661\n"
     ]
    }
   ],
   "source": [
    "# Calculate the average number of comments 'Ask HN' posts receive.\n",
    "total_ask_comments = 0 \n",
    "\n",
    "for post in ask_posts:\n",
    "    total_ask_comments += int(post[4])\n",
    "    \n",
    "avr_ask_comments = total_ask_comments / len(ask_posts)\n",
    "print(avr_ask_comments)"
   ]
  },
  {
   "cell_type": "code",
   "execution_count": 13,
   "metadata": {
    "scrolled": true
   },
   "outputs": [
    {
     "name": "stdout",
     "output_type": "stream",
     "text": [
      "10.31669535283993\n"
     ]
    }
   ],
   "source": [
    "total_show_comments = 0\n",
    "\n",
    "for post in show_posts:\n",
    "    total_show_comments += int(post[4])\n",
    "    \n",
    "avg_show_comments = total_show_comments / len(show_posts)\n",
    "print(avg_show_comments)"
   ]
  },
  {
   "cell_type": "markdown",
   "metadata": {},
   "source": [
    "On average, ask posts in our sample receive approximately 14 comments, whereas show posts recieve approximately 10. Since ask posts are more likely to receive comments. we'll focus our remaining analysis just on these posts.\n",
    "\n",
    "<h2>Finding the Amount of Ask Posts and Comments by Hour Created</h2>\n",
    "\n",
    "Next, we'll determine if we can maximize the amount of comments an ask post receives by creating it at a certain time. First, we'll find the amount of ask posts created during each hour of day, along with the number of comments those posts received. Then, we'll calculate the average amount of comments ask posts created at each hour of the day receive."
   ]
  },
  {
   "cell_type": "code",
   "execution_count": 14,
   "metadata": {},
   "outputs": [
    {
     "data": {
      "text/plain": [
       "{'11': 20664,\n",
       " '19': 27894,\n",
       " '22': 18684,\n",
       " '00': 17478,\n",
       " '04': 11537,\n",
       " '09': 15274,\n",
       " '16': 30857,\n",
       " '18': 31587,\n",
       " '14': 33545,\n",
       " '10': 16818,\n",
       " '12': 25351,\n",
       " '13': 30562,\n",
       " '20': 23414,\n",
       " '03': 11626,\n",
       " '17': 34784,\n",
       " '01': 12465,\n",
       " '23': 17582,\n",
       " '08': 14062,\n",
       " '02': 13762,\n",
       " '21': 22652,\n",
       " '15': 35809,\n",
       " '06': 9253,\n",
       " '07': 12576,\n",
       " '05': 10290}"
      ]
     },
     "execution_count": 14,
     "metadata": {},
     "output_type": "execute_result"
    }
   ],
   "source": [
    "import datetime as dt\n",
    "\n",
    "result_list = []\n",
    "\n",
    "for post in hn:\n",
    "    result_list.append(\n",
    "        [post[6], int(post[4])]\n",
    "    )\n",
    "\n",
    "comments_by_hour = {}\n",
    "counts_by_hour = {}\n",
    "date_format = \"%m/%d/%Y %H:%M\"\n",
    "\n",
    "for each_row in result_list:\n",
    "    date = each_row[0]\n",
    "    comment = each_row[1]\n",
    "    time = dt.datetime.strptime(date, date_format).strftime(\"%H\")\n",
    "    if time not in counts_by_hour:\n",
    "        comments_by_hour[time] = comment\n",
    "        counts_by_hour[time] = 1\n",
    "    else:\n",
    "        comments_by_hour[time] += comment\n",
    "        counts_by_hour[time] += 1\n",
    "\n",
    "comments_by_hour"
   ]
  },
  {
   "cell_type": "markdown",
   "metadata": {},
   "source": [
    "<h2>Calculating the Average Number of Comments for Ask HN Posts by Hour</h2>"
   ]
  },
  {
   "cell_type": "code",
   "execution_count": 15,
   "metadata": {},
   "outputs": [
    {
     "data": {
      "text/plain": [
       "[['11', 27.118110236220474],\n",
       " ['19', 24.361572052401748],\n",
       " ['22', 21.353142857142856],\n",
       " ['00', 25.076040172166426],\n",
       " ['04', 21.891840607210625],\n",
       " ['09', 25.080459770114942],\n",
       " ['16', 23.69969278033794],\n",
       " ['18', 25.188995215311003],\n",
       " ['14', 29.14422241529105],\n",
       " ['10', 24.516034985422742],\n",
       " ['12', 27.465872156013003],\n",
       " ['13', 27.733212341197824],\n",
       " ['20', 22.27783063748811],\n",
       " ['03', 23.82377049180328],\n",
       " ['17', 25.53891336270191],\n",
       " ['01', 21.198979591836736],\n",
       " ['23', 22.59897172236504],\n",
       " ['08', 24.32871972318339],\n",
       " ['02', 26.015122873345934],\n",
       " ['21', 21.992233009708738],\n",
       " ['15', 29.01863857374392],\n",
       " ['06', 19.771367521367523],\n",
       " ['07', 24.755905511811022],\n",
       " ['05', 22.71523178807947]]"
      ]
     },
     "execution_count": 15,
     "metadata": {},
     "output_type": "execute_result"
    }
   ],
   "source": [
    "# Calculate the average amount of comments `Ask HN` posts created at each hour of the day receive.\n",
    "avg_by_hour = []\n",
    "for hr in comments_by_hour:\n",
    "    avg_by_hour.append([hr, comments_by_hour[hr] / counts_by_hour[hr]])\n",
    "\n",
    "avg_by_hour"
   ]
  },
  {
   "cell_type": "markdown",
   "metadata": {},
   "source": [
    "## Sorting and Printing Values from a List of Lists¶\n"
   ]
  },
  {
   "cell_type": "code",
   "execution_count": 19,
   "metadata": {},
   "outputs": [
    {
     "name": "stdout",
     "output_type": "stream",
     "text": [
      "[[27.118110236220474, '11'], [24.361572052401748, '19'], [21.353142857142856, '22'], [25.076040172166426, '00'], [21.891840607210625, '04'], [25.080459770114942, '09'], [23.69969278033794, '16'], [25.188995215311003, '18'], [29.14422241529105, '14'], [24.516034985422742, '10'], [27.465872156013003, '12'], [27.733212341197824, '13'], [22.27783063748811, '20'], [23.82377049180328, '03'], [25.53891336270191, '17'], [21.198979591836736, '01'], [22.59897172236504, '23'], [24.32871972318339, '08'], [26.015122873345934, '02'], [21.992233009708738, '21'], [29.01863857374392, '15'], [19.771367521367523, '06'], [24.755905511811022, '07'], [22.71523178807947, '05']]\n"
     ]
    },
    {
     "data": {
      "text/plain": [
       "[[29.14422241529105, '14'],\n",
       " [29.01863857374392, '15'],\n",
       " [27.733212341197824, '13'],\n",
       " [27.465872156013003, '12'],\n",
       " [27.118110236220474, '11'],\n",
       " [26.015122873345934, '02'],\n",
       " [25.53891336270191, '17'],\n",
       " [25.188995215311003, '18'],\n",
       " [25.080459770114942, '09'],\n",
       " [25.076040172166426, '00'],\n",
       " [24.755905511811022, '07'],\n",
       " [24.516034985422742, '10'],\n",
       " [24.361572052401748, '19'],\n",
       " [24.32871972318339, '08'],\n",
       " [23.82377049180328, '03'],\n",
       " [23.69969278033794, '16'],\n",
       " [22.71523178807947, '05'],\n",
       " [22.59897172236504, '23'],\n",
       " [22.27783063748811, '20'],\n",
       " [21.992233009708738, '21'],\n",
       " [21.891840607210625, '04'],\n",
       " [21.353142857142856, '22'],\n",
       " [21.198979591836736, '01'],\n",
       " [19.771367521367523, '06']]"
      ]
     },
     "execution_count": 19,
     "metadata": {},
     "output_type": "execute_result"
    }
   ],
   "source": [
    "swap_avg_by_hour = []\n",
    "for row in avg_by_hour:\n",
    "    swap_avg_by_hour.append([row[1], row[0]])\n",
    "\n",
    "print(swap_avg_by_hour)\n",
    "\n",
    "sorted_swap = sorted(swap_avg_by_hour, reverse=True)\n",
    "sorted_swap"
   ]
  },
  {
   "cell_type": "code",
   "execution_count": 22,
   "metadata": {},
   "outputs": [
    {
     "name": "stdout",
     "output_type": "stream",
     "text": [
      "Top 5 Hours for 'Ask HN' Comments\n",
      "14:00: 29.14 average comments per post\n",
      "15:00: 29.02 average comments per post\n",
      "13:00: 27.73 average comments per post\n",
      "12:00: 27.47 average comments per post\n",
      "11:00: 27.12 average comments per post\n"
     ]
    }
   ],
   "source": [
    "# Sort the values and print the the 5 hours with the highest average comments.\n",
    "\n",
    "print(\"Top 5 Hours for 'Ask HN' Comments\")\n",
    "for avg, hr in sorted_swap[:5]:\n",
    "    print(\n",
    "            \"{}: {:.2f} average comments per post\".format(dt.datetime.strptime(hr, \"%H\").strftime(\"%H:%M\"), avg)\n",
    "    )\n",
    "    \n"
   ]
  },
  {
   "cell_type": "markdown",
   "metadata": {},
   "source": [
    "The hour that receives the most comments per post on average is 15:00, with an average of 38.59 comments per post. There's about a 60% increase in the number of comments between the hours with the highest and second highest average number of comments.\n",
    "\n",
    "According to the data set documentation, the timezone used is Eastern Time in the US. So, we could also write 15:00 as 3:00 pm est."
   ]
  },
  {
   "cell_type": "markdown",
   "metadata": {},
   "source": [
    "## Conclusion\n",
    "\n",
    "In this project, we analyzed ask posts and show posts to determine which type of post and time receive the most comments on average. Based on our analysis, to maximize the amount of comments a post receives, we'd recommend the post be categorized as ask post and created between 15:00 and 16:00 (3:00 pm est - 4:00 pm est).\n",
    "\n",
    "However, it should be noted that the data set we analyzed excluded posts without any comments. Given that, it's more accurate to say that of the posts that received comments, ask posts received more comments on average and ask posts created between 15:00 and 16:00 (3:00 pm est - 4:00 pm est) received the most comments on average."
   ]
  }
 ],
 "metadata": {
  "kernelspec": {
   "display_name": "Python 3",
   "language": "python",
   "name": "python3"
  },
  "language_info": {
   "codemirror_mode": {
    "name": "ipython",
    "version": 3
   },
   "file_extension": ".py",
   "mimetype": "text/x-python",
   "name": "python",
   "nbconvert_exporter": "python",
   "pygments_lexer": "ipython3",
   "version": "3.7.6"
  }
 },
 "nbformat": 4,
 "nbformat_minor": 4
}
