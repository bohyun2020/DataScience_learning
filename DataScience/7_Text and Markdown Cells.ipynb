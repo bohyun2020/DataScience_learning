{
 "cells": [
  {
   "cell_type": "markdown",
   "metadata": {},
   "source": [
    "# Data Set\n",
    "\n",
    "In the code below, we will: \n",
    "\n",
    "- the backtick can be used for command substitution.  \n",
    "  \n",
    "    [Google](http://www.google.com)  \n",
    "  \n",
    "    ![Puppy](https://www.greencrossvets.com.au/wp-content/images/Pet%20Health/puppy_stages.jpg =10x50)\n",
    "- Define a function named `open_dataset`, which takes in as a parameter with a default argument `file_name='AppleStore.csv` and `header=True`\n",
    "- Assign open() build-in function, which takes in as a parameter with `file_name` and `encoding='UTF-8` to a variable named opened_file.\n",
    "- Import reader from csv in Python Library.\n",
    "- Assign reader, which takes in as a parameter `opened_file` to a variable named `read_file`.\n",
    "- Assign list, which takes in as a parameter 'read_file' to a variable named data\n",
    "\n",
    "- If statement for checking header\n",
    "- `print hear_apps_data`\n"
   ]
  },
  {
   "cell_type": "code",
   "execution_count": 5,
   "metadata": {},
   "outputs": [
    {
     "name": "stdout",
     "output_type": "stream",
     "text": [
      "['\\ufeffid', 'track_name', 'size_bytes', 'currency', 'price', 'rating_count_tot', 'rating_count_ver', 'user_rating', 'user_rating_ver', 'ver', 'cont_rating', 'prime_genre', 'sup_devices.num', 'ipadSc_urls.num', 'lang.num', 'vpp_lic']\n"
     ]
    }
   ],
   "source": [
    "def open_dataset(file_name='AppleStore.csv', header=True):\n",
    "    \n",
    "    opened_file = open(file_name, encoding='UTF-8')\n",
    "    from csv import reader\n",
    "    read_file = reader(opened_file)\n",
    "    data = list(read_file)\n",
    "    \n",
    "    if header:\n",
    "        return data[0], data[1:]\n",
    "    else:\n",
    "        return data\n",
    "    \n",
    "header_apps_data, body_apps_data = open_dataset()\n",
    "print(header_apps_data)"
   ]
  },
  {
   "cell_type": "markdown",
   "metadata": {},
   "source": [
    "- This dataset refers to the data of ApplesStore, which contains information such as id, track_name, price, rating, and so on.\n",
    "- [Data Source](https://www.kaggle.com/ramamet4/app-store-apple-data-set-10k-apps)  \n",
    "  \n",
    "| Column name  | Description     |  \n",
    "| :---         | :---            |  \n",
    "| \"id\"\t       | App ID          |\n",
    "| \"track_name\" | App Name        |\n",
    "| \"size_bytes\" | Size (in Bytes) |\n",
    "| .....\t       |.....            |\n",
    "\n",
    "|   ver  \t| cont_rating \t|\n",
    "|:------:\t|:-----------:\t|\n",
    "| 6.3.5  \t| 4+          \t|\n",
    "| 8.2.2  \t| 4+          \t|\n",
    "| 5.0.0  \t| 4+          \t|\n",
    "| 5.10.0 \t| 12+         \t|\n",
    "| 7.5.1  \t| 4+          \t|\n",
    "| 1.8    \t| 4+          \t|\n",
    "| 6.12.0 \t| 4+          \t|\n",
    "| 8.4.1  \t| 12+         \t|"
   ]
  },
  {
   "cell_type": "markdown",
   "metadata": {},
   "source": []
  }
 ],
 "metadata": {
  "kernelspec": {
   "display_name": "Python 3",
   "language": "python",
   "name": "python3"
  },
  "language_info": {
   "codemirror_mode": {
    "name": "ipython",
    "version": 3
   },
   "file_extension": ".py",
   "mimetype": "text/x-python",
   "name": "python",
   "nbconvert_exporter": "python",
   "pygments_lexer": "ipython3",
   "version": "3.7.6"
  }
 },
 "nbformat": 4,
 "nbformat_minor": 4
}
